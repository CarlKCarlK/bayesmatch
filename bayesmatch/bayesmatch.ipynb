{
 "cells": [
  {
   "cell_type": "code",
   "execution_count": 1,
   "metadata": {},
   "outputs": [
    {
     "data": {
      "text/plain": [
       "'0.00001'"
      ]
     },
     "execution_count": 1,
     "metadata": {},
     "output_type": "execute_result"
    }
   ],
   "source": [
    "# Random line is about Robert\n",
    "\n",
    "prob_member_in_race = .01\n",
    "result_count = 1000\n",
    "\n",
    "prior_prob = prob_member_in_race / result_count\n",
    "f\"{prior_prob:.5f}\""
   ]
  },
  {
   "cell_type": "code",
   "execution_count": 2,
   "metadata": {},
   "outputs": [
    {
     "data": {
      "text/plain": [
       "0.6"
      ]
     },
     "execution_count": 2,
     "metadata": {},
     "output_type": "execute_result"
    }
   ],
   "source": [
    "# Our Robert leads to \"Robert\"\n",
    "\n",
    "prob_name_right = .6\n",
    "prob_name_right"
   ]
  },
  {
   "cell_type": "code",
   "execution_count": 3,
   "metadata": {},
   "outputs": [
    {
     "data": {
      "text/plain": [
       "0.03143"
      ]
     },
     "execution_count": 3,
     "metadata": {},
     "output_type": "execute_result"
    }
   ],
   "source": [
    "# Someone else leads to \"Robert\"\n",
    "\n",
    "import pandas as pd\n",
    "from pooch import retrieve\n",
    "\n",
    "def load_name_to_prob():\n",
    "    name_prob_file = retrieve(\"https://github.com/CarlKCarlK/bayesmatch/releases/download/v0.0.1/name_probability.tsv\",\n",
    "        known_hash=\"md5:cf2b3277a9e88b846c18bed559a4fbea\",\n",
    "        fname=\"name_probability.tsv\")\n",
    "    name_to_prob_df = pd.read_csv(name_prob_file, sep=\"\\t\")\n",
    "    name_to_prob_df.set_index(\"name\", inplace=True)\n",
    "    name_to_prob = name_to_prob_df.to_dict()[\"probability\"]\n",
    "    return name_to_prob\n",
    "\n",
    "name_to_prob = load_name_to_prob()\n",
    "prob_coincidence = name_to_prob[\"ROBERT\"]\n",
    "prob_coincidence"
   ]
  },
  {
   "cell_type": "code",
   "execution_count": 4,
   "metadata": {},
   "outputs": [
    {
     "name": "stdout",
     "output_type": "stream",
     "text": [
      "prior: -11.51 points, 0.00001 probability\n",
      "delta: 2.95 points\n",
      "post: -8.56 points, 0.00019 probability\n"
     ]
    }
   ],
   "source": [
    "# \"Robert\" is from Robert\n",
    "\n",
    "import numpy as np\n",
    "\n",
    "def logodds(prob):\n",
    "    return np.log(prob / (1.0 - prob))\n",
    "\n",
    "def prob(logodds):\n",
    "    odds = np.exp(logodds)\n",
    "    prob = odds / (odds + 1.0)\n",
    "    return prob\n",
    "\n",
    "prior_points = logodds(prior_prob)\n",
    "print(f\"prior: {prior_points:.2f} points, {prior_prob:.5f} probability\")\n",
    "\n",
    "delta_points = np.log(prob_name_right / prob_coincidence)\n",
    "print(f\"delta: {delta_points:.2f} points\")\n",
    "\n",
    "post_points = prior_points + delta_points\n",
    "print(f\"post: {post_points:.2f} points, {prob(post_points):.5f} probability\")"
   ]
  },
  {
   "cell_type": "code",
   "execution_count": 5,
   "metadata": {},
   "outputs": [
    {
     "name": "stdout",
     "output_type": "stream",
     "text": [
      "prior: -11.51 points, 0.00001 probability\n",
      "delta: -0.88 points\n",
      "post: -12.40 points, 0.000004 probability\n"
     ]
    }
   ],
   "source": [
    "# No \"Robert\", but still from Robert\n",
    "\n",
    "print(f\"prior: {prior_points:.2f} points, {prior_prob:.5f} probability\")\n",
    "\n",
    "delta_points = np.log((1.0-prob_name_right) / (1.0-prob_coincidence))\n",
    "print(f\"delta: {delta_points:.2f} points\")\n",
    "\n",
    "post_points = prior_points + delta_points\n",
    "print(f\"post: {post_points:.2f} points, {prob(post_points):.6f} probability\")"
   ]
  },
  {
   "cell_type": "code",
   "execution_count": 6,
   "metadata": {},
   "outputs": [
    {
     "name": "stdout",
     "output_type": "stream",
     "text": [
      "prior: -11.51 points, 0.00001 probability\n",
      "first_name: 2.95 points\n",
      "last_name: 4.70 points\n",
      "post: -3.86 points, 0.02055 probability\n"
     ]
    }
   ],
   "source": [
    "# \"Robert\" and \"Scott\" is from Robert Scott.\n",
    "\n",
    "print(f\"prior: {prior_points:.2f} points, {prior_prob:.5f} probability\")\n",
    "\n",
    "first_name_points = np.log(prob_name_right / name_to_prob[\"ROBERT\"])\n",
    "print(f\"first_name: {first_name_points:.2f} points\")\n",
    "\n",
    "last_name_points = np.log(prob_name_right / name_to_prob[\"SCOTT\"])\n",
    "print(f\"last_name: {last_name_points:.2f} points\")\n",
    "\n",
    "post_points = prior_points + first_name_points + last_name_points\n",
    "print(f\"post: {post_points:.2f} points, {prob(post_points):.5f} probability\")"
   ]
  },
  {
   "cell_type": "code",
   "execution_count": 7,
   "metadata": {},
   "outputs": [
    {
     "data": {
      "text/html": [
       "<div>\n",
       "<style scoped>\n",
       "    .dataframe tbody tr th:only-of-type {\n",
       "        vertical-align: middle;\n",
       "    }\n",
       "\n",
       "    .dataframe tbody tr th {\n",
       "        vertical-align: top;\n",
       "    }\n",
       "\n",
       "    .dataframe thead th {\n",
       "        text-align: right;\n",
       "    }\n",
       "</style>\n",
       "<table border=\"1\" class=\"dataframe\">\n",
       "  <thead>\n",
       "    <tr style=\"text-align: right;\">\n",
       "      <th></th>\n",
       "      <th>contains_CHELLIE</th>\n",
       "      <th>contains_PINGREE</th>\n",
       "      <th>prior prob</th>\n",
       "      <th>prior points</th>\n",
       "      <th>first name points</th>\n",
       "      <th>last name points</th>\n",
       "      <th>post points</th>\n",
       "      <th>post prob</th>\n",
       "    </tr>\n",
       "  </thead>\n",
       "  <tbody>\n",
       "    <tr>\n",
       "      <th>0</th>\n",
       "      <td>False</td>\n",
       "      <td>False</td>\n",
       "      <td>0.00001</td>\n",
       "      <td>-11.512915</td>\n",
       "      <td>-0.916290</td>\n",
       "      <td>-0.916287</td>\n",
       "      <td>-13.345492</td>\n",
       "      <td>0.000002</td>\n",
       "    </tr>\n",
       "    <tr>\n",
       "      <th>1</th>\n",
       "      <td>False</td>\n",
       "      <td>True</td>\n",
       "      <td>0.00001</td>\n",
       "      <td>-11.512915</td>\n",
       "      <td>-0.916290</td>\n",
       "      <td>12.023751</td>\n",
       "      <td>-0.405454</td>\n",
       "      <td>0.400003</td>\n",
       "    </tr>\n",
       "    <tr>\n",
       "      <th>2</th>\n",
       "      <td>True</td>\n",
       "      <td>False</td>\n",
       "      <td>0.00001</td>\n",
       "      <td>-11.512915</td>\n",
       "      <td>13.368201</td>\n",
       "      <td>-0.916287</td>\n",
       "      <td>0.938998</td>\n",
       "      <td>0.718897</td>\n",
       "    </tr>\n",
       "    <tr>\n",
       "      <th>3</th>\n",
       "      <td>True</td>\n",
       "      <td>True</td>\n",
       "      <td>0.00001</td>\n",
       "      <td>-11.512915</td>\n",
       "      <td>13.368201</td>\n",
       "      <td>12.023751</td>\n",
       "      <td>13.879036</td>\n",
       "      <td>0.999999</td>\n",
       "    </tr>\n",
       "  </tbody>\n",
       "</table>\n",
       "</div>"
      ],
      "text/plain": [
       "   contains_CHELLIE  contains_PINGREE  prior prob  prior points   \n",
       "0             False             False     0.00001    -11.512915  \\\n",
       "1             False              True     0.00001    -11.512915   \n",
       "2              True             False     0.00001    -11.512915   \n",
       "3              True              True     0.00001    -11.512915   \n",
       "\n",
       "   first name points  last name points  post points  post prob  \n",
       "0          -0.916290         -0.916287   -13.345492   0.000002  \n",
       "1          -0.916290         12.023751    -0.405454   0.400003  \n",
       "2          13.368201         -0.916287     0.938998   0.718897  \n",
       "3          13.368201         12.023751    13.879036   0.999999  "
      ]
     },
     "execution_count": 7,
     "metadata": {},
     "output_type": "execute_result"
    }
   ],
   "source": [
    "def delta(name, contains):\n",
    "    prob_coincidence = name_to_prob[name]\n",
    "    if contains:\n",
    "        return np.log(prob_name_right / prob_coincidence)\n",
    "    else:\n",
    "        return np.log((1.0-prob_name_right) / (1.0-prob_coincidence))\n",
    "\n",
    "first_name = \"CHELLIE\"\n",
    "last_name = \"PINGREE\"\n",
    "data_list = []\n",
    "for contains_first_name in [False, True]:\n",
    "    first_name_points = delta(first_name, contains_first_name)\n",
    "    for contains_last_name in [False, True]:\n",
    "        last_name_points = delta(last_name, contains_last_name)\n",
    "        post_points = prior_points + first_name_points + last_name_points\n",
    "        data = [contains_first_name,\n",
    "                        contains_last_name,\n",
    "                        prior_prob,\n",
    "                        prior_points,\n",
    "                        first_name_points,\n",
    "                        last_name_points,\n",
    "                        post_points,\n",
    "                        prob(post_points),\n",
    "        ]\n",
    "        data_list.append(data)\n",
    "df = pd.DataFrame(data_list)        \n",
    "df.columns=[f\"contains_{first_name}\", f\"contains_{last_name}\", \"prior prob\", \"prior points\", \"first name points\", \"last name points\", \"post points\", \"post prob\"]        \n",
    "df"
   ]
  },
  {
   "cell_type": "code",
   "execution_count": 8,
   "metadata": {},
   "outputs": [
    {
     "name": "stdout",
     "output_type": "stream",
     "text": [
      "prior: -11.51 points, 0.00001 probability\n",
      "\tROBERT: 2.77 points\n",
      "\tBOB: 4.51 points\n",
      "\tROB: -0.05 points\n",
      "first_name: 4.51 points\n",
      "last_name: 4.70 points\n",
      "post: -2.30 points, 0.09083 probability\n"
     ]
    }
   ],
   "source": [
    "# \"Bob\" is from Robert\n",
    "\n",
    "def delta(name, prob_name_right, contains):\n",
    "    prob_coincidence = name_to_prob[name]\n",
    "    return delta_from_coincidence(prob_coincidence, prob_name_right, contains)\n",
    "    \n",
    "def delta_from_coincidence(prob_coincidence, prob_name_right, contains):\n",
    "    if contains:\n",
    "        return np.log(prob_name_right / prob_coincidence)\n",
    "    else:\n",
    "        return np.log((1.0-prob_name_right) / (1.0-prob_coincidence))\n",
    "\n",
    "\n",
    "\n",
    "print(f\"prior: {prior_points:.2f} points, {prior_prob:.5f} probability\")\n",
    "\n",
    "first_name_points = np.NINF\n",
    "for name, prob_name_right_0, contains in [(\"ROBERT\", 0.50, True), (\"BOB\", 0.05, True), (\"ROB\", 0.05, False)]:\n",
    "    some_first_name_points = delta(name, prob_name_right_0, contains)\n",
    "    print(f\"\\t{name}: {some_first_name_points:.2f} points\")\n",
    "    first_name_points = np.max([first_name_points, some_first_name_points])\n",
    "print(f\"first_name: {first_name_points:.2f} points\")\n",
    "\n",
    "last_name_points = delta(\"SCOTT\", prob_name_right, contains=True)\n",
    "print(f\"last_name: {last_name_points:.2f} points\")\n",
    "\n",
    "post_points = prior_points + first_name_points + last_name_points\n",
    "print(f\"post: {post_points:.2f} points, {prob(post_points):.5f} probability\")"
   ]
  },
  {
   "cell_type": "code",
   "execution_count": 9,
   "metadata": {},
   "outputs": [
    {
     "name": "stdout",
     "output_type": "stream",
     "text": [
      "prior: -11.51 points, 0.00001 probability\n",
      "\tROBERT: 2.77 points\n",
      "\tBOB: 4.51 points\n",
      "\tROB: -0.05 points\n",
      "first_name: 4.51 points\n",
      "last_name: 4.70 points\n",
      "city: 1.72 points\n",
      "post: -0.58 points, 0.35846 probability\n"
     ]
    }
   ],
   "source": [
    "# \"Bellevue\" refers to Robert Scott's town.\n",
    "\n",
    "print(f\"prior: {prior_points:.2f} points, {prior_prob:.5f} probability\")\n",
    "\n",
    "first_name_points = np.NINF\n",
    "for name, prob_name_right_0, contains in [(\"ROBERT\", 0.50, True), (\"BOB\", 0.05, True), (\"ROB\", 0.05, False)]:\n",
    "    some_first_name_points = delta(name, prob_name_right_0, contains)\n",
    "    print(f\"\\t{name}: {some_first_name_points:.2f} points\")\n",
    "    first_name_points = np.max([first_name_points, some_first_name_points])\n",
    "print(f\"first_name: {first_name_points:.2f} points\")\n",
    "\n",
    "last_name_points = delta(\"SCOTT\", prob_name_right, contains=True)\n",
    "print(f\"last_name: {last_name_points:.2f} points\")\n",
    "\n",
    "city_by_conincidence = (170+1)/(1592+2)\n",
    "city_name_points = delta_from_coincidence(city_by_conincidence, prob_name_right, contains=True)\n",
    "print(f\"city: {city_name_points:.2f} points\")\n",
    "\n",
    "post_points = prior_points + first_name_points + last_name_points + city_name_points\n",
    "print(f\"post: {post_points:.2f} points, {prob(post_points):.5f} probability\")"
   ]
  },
  {
   "cell_type": "code",
   "execution_count": 10,
   "metadata": {},
   "outputs": [
    {
     "name": "stdout",
     "output_type": "stream",
     "text": [
      "city: -0.80 points\n",
      "post: -3.11 points, 0.04284 probability\n"
     ]
    }
   ],
   "source": [
    "# We expect to see Bellevue, but we don't\n",
    "city_name_points = delta_from_coincidence(city_by_conincidence, prob_name_right, contains=False)\n",
    "print(f\"city: {city_name_points:.2f} points\")\n",
    "\n",
    "post_points = prior_points + first_name_points + last_name_points + city_name_points\n",
    "print(f\"post: {post_points:.2f} points, {prob(post_points):.5f} probability\")"
   ]
  },
  {
   "cell_type": "code",
   "execution_count": null,
   "metadata": {},
   "outputs": [],
   "source": []
  }
 ],
 "metadata": {
  "interpreter": {
   "hash": "b86edf3eabca54269a461b3be2b9e38e1a2ea42d94c35fd0bd2bfd07ae58eb99"
  },
  "kernelspec": {
   "display_name": "Python 3.7.10 64-bit ('gtg2': conda)",
   "language": "python",
   "name": "python3"
  },
  "language_info": {
   "codemirror_mode": {
    "name": "ipython",
    "version": 3
   },
   "file_extension": ".py",
   "mimetype": "text/x-python",
   "name": "python",
   "nbconvert_exporter": "python",
   "pygments_lexer": "ipython3",
   "version": "3.10.12"
  },
  "orig_nbformat": 4
 },
 "nbformat": 4,
 "nbformat_minor": 2
}
